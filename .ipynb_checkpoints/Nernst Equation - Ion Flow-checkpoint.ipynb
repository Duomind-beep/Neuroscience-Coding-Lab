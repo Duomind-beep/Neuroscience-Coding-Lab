{
 "cells": [
  {
   "cell_type": "code",
   "execution_count": null,
   "id": "7cbc7426-4ee7-4f54-838c-cb4867c293dd",
   "metadata": {},
   "outputs": [],
   "source": [
    "V = -65 mV"
   ]
  },
  {
   "cell_type": "markdown",
   "id": "a04d6664-4692-4a9c-8f9e-40ab55b8f36d",
   "metadata": {},
   "source": [
    "V is the membrane potential (the electrical potential across the neuron’s membrane).\n",
    "\n",
    "τ is the membrane time constant (how quickly the neuron integrates inputs).\n",
    "\n",
    "R is the resistance.\n",
    "\n",
    "I is the input current."
   ]
  },
  {
   "cell_type": "code",
   "execution_count": null,
   "id": "28fec9b8-3a4f-48e9-84ee-bb1f60fd942b",
   "metadata": {},
   "outputs": [],
   "source": []
  }
 ],
 "metadata": {
  "kernelspec": {
   "display_name": "Python 3 (ipykernel)",
   "language": "python",
   "name": "python3"
  },
  "language_info": {
   "codemirror_mode": {
    "name": "ipython",
    "version": 3
   },
   "file_extension": ".py",
   "mimetype": "text/x-python",
   "name": "python",
   "nbconvert_exporter": "python",
   "pygments_lexer": "ipython3",
   "version": "3.13.2"
  }
 },
 "nbformat": 4,
 "nbformat_minor": 5
}
