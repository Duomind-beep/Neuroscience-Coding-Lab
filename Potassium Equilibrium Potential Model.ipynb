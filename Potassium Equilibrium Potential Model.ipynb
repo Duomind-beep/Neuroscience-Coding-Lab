{
 "cells": [
  {
   "cell_type": "code",
   "execution_count": 3,
   "id": "67513ae1-d7f2-4cb3-ab96-22dc89daa32a",
   "metadata": {},
   "outputs": [],
   "source": [
    "import numpy as np"
   ]
  },
  {
   "cell_type": "code",
   "execution_count": 5,
   "id": "7cbc7426-4ee7-4f54-838c-cb4867c293dd",
   "metadata": {},
   "outputs": [
    {
     "name": "stdout",
     "output_type": "stream",
     "text": [
      "-91.77421471783654\n"
     ]
    }
   ],
   "source": [
    "# Constants\n",
    "R = 8.314 # J/mol*K\n",
    "T = 310.15 # Temperature in Kelvin (approx. Human body tempature)\n",
    "F = 96485 # C/mol\n",
    "\n",
    "\n",
    "# Concentrations\n",
    "K_outside = 5 # mM\n",
    "K_inside = 155 # mM\n",
    "z = +1 \n",
    "\n",
    "# Nernst Equation given as volts(V)\n",
    "E_K = (R * T / (z * F)) * np.log(K_outside / K_inside)\n",
    "\n",
    "# Convert to millivolts (mV)\n",
    "E_K_mV = E_K * 1000\n",
    "\n",
    "print(E_K_mV)\n"
   ]
  },
  {
   "cell_type": "code",
   "execution_count": null,
   "id": "ae345610-75f0-4361-ba84-0d2217f1a7e9",
   "metadata": {},
   "outputs": [],
   "source": []
  }
 ],
 "metadata": {
  "kernelspec": {
   "display_name": "Python 3 (ipykernel)",
   "language": "python",
   "name": "python3"
  },
  "language_info": {
   "codemirror_mode": {
    "name": "ipython",
    "version": 3
   },
   "file_extension": ".py",
   "mimetype": "text/x-python",
   "name": "python",
   "nbconvert_exporter": "python",
   "pygments_lexer": "ipython3",
   "version": "3.13.2"
  }
 },
 "nbformat": 4,
 "nbformat_minor": 5
}
